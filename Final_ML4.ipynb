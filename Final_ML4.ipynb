{
 "cells": [
  {
   "cell_type": "markdown",
   "id": "392fc7fb",
   "metadata": {},
   "source": [
    "# Kaggle ML Challenge 4"
   ]
  },
  {
   "cell_type": "markdown",
   "id": "84dca677",
   "metadata": {},
   "source": [
    "**INTRODUCTION:**\n",
    "\n",
    "The last Kaggle Challenge is very interesting where we get to pick the dataset we want to work with from the previous Kaggle challenges. As we have already worked with the dataset previously, it fairly saves up the time on getting to know the dataset and understanding the concept. For my Kaggle Challenge 4, I worked on improving the score of my previous Kaggle Challenge 2 which is the Multi-modal CITE seq Prediction by implementing **Autoencoder**.\n",
    "\n",
    "```Autoencoder``` is one of the type of the artificial neural network which is used for unsupervised learning which consists of two main components that are an encoder and decoder. Encoder is used to forward pass through the encoding layer of the autoencoder and decoder performs the forward pass through the decoding layer of the autoencoder."
   ]
  },
  {
   "cell_type": "markdown",
   "id": "d8512a67",
   "metadata": {},
   "source": [
    "**IMPORT DATASET:**\n",
    "\n",
    "Firstly, I started with importing the dataset and create a NumPy arrays.\n"
   ]
  },
  {
   "cell_type": "code",
   "execution_count": 1,
   "id": "de849114",
   "metadata": {},
   "outputs": [],
   "source": [
    "import numpy as np\n",
    "\n",
    "#importing data set and store as numpy.ndarray array\n",
    "A = np.genfromtxt('ml2/training_set_rna1.csv', delimiter=',', dtype=None, encoding=None)\n",
    "y = np.genfromtxt('ml2/training_set_adt1.csv', delimiter=',', dtype=None, encoding=None)\n",
    "A_test = np.genfromtxt('ml2/test_set_rna1.csv', delimiter=',', dtype=None, encoding=None)\n",
    "A_test = np.vstack((np.zeros((25, 1000)), A_test))\n",
    "train = np.vstack((A, y))"
   ]
  },
  {
   "cell_type": "code",
   "execution_count": 2,
   "id": "c36d196e",
   "metadata": {},
   "outputs": [
    {
     "data": {
      "text/plain": [
       "(664, 4000)"
      ]
     },
     "execution_count": 2,
     "metadata": {},
     "output_type": "execute_result"
    }
   ],
   "source": [
    "train.shape"
   ]
  },
  {
   "cell_type": "code",
   "execution_count": 3,
   "id": "272b7bb2",
   "metadata": {},
   "outputs": [
    {
     "data": {
      "text/plain": [
       "(664, 1000)"
      ]
     },
     "execution_count": 3,
     "metadata": {},
     "output_type": "execute_result"
    }
   ],
   "source": [
    "A_test.shape"
   ]
  },
  {
   "cell_type": "markdown",
   "id": "a66275a4",
   "metadata": {},
   "source": [
    "Here in the below function, I have implemented the code that defines three function which are ```relu``` , ```relu_prime``` and ```he_int```. In the relu function, it takes a numpy array x as input and then applies the Relu function element-wise. Similarly, the relu_prime calculates the derivative of the ReLu activation function and the he_int function implements the He initialization technique for intializing the weights of neural network layers."
   ]
  },
  {
   "cell_type": "code",
   "execution_count": 12,
   "id": "944cfa8d",
   "metadata": {},
   "outputs": [],
   "source": [
    "import numpy as np\n",
    "\n",
    "\n",
    "# ReLU activation function\n",
    "def relu(x):\n",
    "    return np.maximum(0, x)\n",
    "\n",
    "# Derivative of ReLU function\n",
    "def relu_prime(x):\n",
    "    return np.where(x > 0, 1, 0)\n",
    "\n",
    "# HE initialization for weights\n",
    "def he_init(n_in, n_out):\n",
    "    return np.random.randn(n_out, n_in) * np.sqrt(2.0 / n_in)"
   ]
  },
  {
   "cell_type": "markdown",
   "id": "82e09e93",
   "metadata": {},
   "source": [
    "Similarly, I constructed an Autoencoder class which involves forward propagation, backpropagation and weight updates. I have used He intialization technique that initializes the weight and biases for both the encoding and decoding layers. Also, I have defined a method name reconstruct within a class which performs reconstruction of the input matrix X using an encoder and decoder model which is performed on each column."
   ]
  },
  {
   "cell_type": "code",
   "execution_count": 13,
   "id": "2a509bca",
   "metadata": {},
   "outputs": [],
   "source": [
    "class Autoencoder:\n",
    "    def __init__(self, input_size, hidden_size, activation_func=relu):\n",
    "        self.input_size = input_size\n",
    "        self.hidden_size = hidden_size\n",
    "        self.activation_func = activation_func\n",
    "\n",
    "        # Initialize weights and biases for encoding\n",
    "        self.weights_enc = he_init(input_size, hidden_size)\n",
    "        self.biases_enc = np.zeros((hidden_size, 1))\n",
    "\n",
    "        # Initialize weights and biases for decoding\n",
    "        self.weights_dec = he_init(hidden_size, input_size)\n",
    "        self.biases_dec = np.zeros((input_size, 1))\n",
    "\n",
    "    def encode(self, x):\n",
    "        # Forward pass through encoding layer\n",
    "        z = np.dot(self.weights_enc, x) + self.biases_enc\n",
    "        a = self.activation_func(z)\n",
    "        return a\n",
    "\n",
    "    def decode(self, x):\n",
    "        # Forward pass through decoding layer\n",
    "        z = np.dot(self.weights_dec, x) + self.biases_dec\n",
    "        a = relu(z)\n",
    "        return a\n",
    "\n",
    "    def train(self, X, learning_rate=0.001, num_epochs=20):\n",
    "        # Loop over epochs\n",
    "        for epoch in range(num_epochs):\n",
    "            # Loop over columns in X\n",
    "            totalError = 0\n",
    "            for i in range(X.shape[1]):\n",
    "                # Forward pass through encoding and decoding layers\n",
    "                x = X[:, i].reshape((-1, 1))\n",
    "                a_enc = self.encode(x)\n",
    "                a_dec = self.decode(a_enc)\n",
    "\n",
    "                # Backpropagation\n",
    "                error = a_dec - x\n",
    "                totalError += np.sum(abs(error))\n",
    "                delta = error * relu_prime(a_dec)\n",
    "                grad_w_dec = np.dot(delta, a_enc.T)\n",
    "                grad_b_dec = delta\n",
    "\n",
    "                delta1= np.dot(self.weights_dec.T, delta) * relu_prime(a_enc)\n",
    "                grad_w_enc = np.dot(delta, x.T)\n",
    "                grad_b_enc = delta1\n",
    "\n",
    "                # Update weights and biases\n",
    "                self.weights_dec -= learning_rate * np.dot(grad_w_dec,a_enc) \n",
    "                self.biases_dec -= learning_rate * grad_b_dec.sum(axis=1, keepdims=True)\n",
    "                #print(\"biases_dec\",self.biases_dec)\n",
    "                self.weights_enc += (learning_rate * np.dot(grad_w_enc.T,x)).T\n",
    "                self.biases_enc += learning_rate * grad_b_enc.sum(axis=1, keepdims=True)\n",
    "                \n",
    "            print(totalError)\n",
    "            print(epoch)\n",
    "            \n",
    "    def reconstruct(self, X):\n",
    "        # Loop over columns in X\n",
    "        reconstructed_X = np.zeros_like(X)\n",
    "        for i in range(X.shape[1]):\n",
    "            # Forward pass through encoding and decoding layers\n",
    "            x = X[:, i].reshape((-1, 1))\n",
    "            a_enc = self.encode(x)\n",
    "            a_dec = self.decode(a_enc)\n",
    "\n",
    "            # Add reconstructed column to output matrix\n",
    "            reconstructed_X[:, i] = a_dec.squeeze()\n",
    "\n",
    "        return reconstructed_X"
   ]
  },
  {
   "cell_type": "markdown",
   "id": "ff5a16c7",
   "metadata": {},
   "source": [
    "Here, I have called the autoencoder model using the class Autoencoder with an input size of 664 and the hidden size of 32. I have then implemented the autoencoder in the training set i.e. train."
   ]
  },
  {
   "cell_type": "code",
   "execution_count": 14,
   "id": "7ce6f6ff",
   "metadata": {},
   "outputs": [
    {
     "name": "stdout",
     "output_type": "stream",
     "text": [
      "2808805.612986\n",
      "0\n",
      "2698812.8150216653\n",
      "1\n",
      "2698278.4353377433\n",
      "2\n",
      "2698269.8792733923\n",
      "3\n",
      "2698269.7233593697\n",
      "4\n",
      "2698269.720509415\n",
      "5\n",
      "2698269.720457321\n",
      "6\n",
      "2698269.7204563715\n",
      "7\n",
      "2698269.720456355\n",
      "8\n",
      "2698269.720456354\n",
      "9\n",
      "2698269.720456354\n",
      "10\n",
      "2698269.720456354\n",
      "11\n",
      "2698269.720456354\n",
      "12\n",
      "2698269.720456354\n",
      "13\n",
      "2698269.720456354\n",
      "14\n",
      "2698269.720456354\n",
      "15\n",
      "2698269.720456354\n",
      "16\n",
      "2698269.720456354\n",
      "17\n",
      "2698269.720456354\n",
      "18\n",
      "2698269.720456354\n",
      "19\n"
     ]
    }
   ],
   "source": [
    "# Autoencoder with input size 664 and hidden size 32\n",
    "autoencoder = Autoencoder(664, 32)\n",
    "autoencoder.train(train)"
   ]
  },
  {
   "cell_type": "markdown",
   "id": "00158ed1",
   "metadata": {},
   "source": [
    "I then worked on reconstructing the test data i.e. A_test using the autoencoder model which performs a column-wise reconstruction of the input matrix using the autoencoder model. I also calculated the mean squared error between the test data and reconstructed output to see how well the autoencoder model is able to reconstruct the test data. Furthermore, I also created a plot to visualize the relationship between the rest data and the corresponding reconstructed output which helped me better understand how my model was performing. So, I felt the autoencoder model might not be accurately reconstructing."
   ]
  },
  {
   "cell_type": "code",
   "execution_count": 15,
   "id": "cb433423",
   "metadata": {},
   "outputs": [],
   "source": [
    "# Reconstruct test data A_test\n",
    "reconstructed_X_test = autoencoder.reconstruct(A_test)"
   ]
  },
  {
   "cell_type": "code",
   "execution_count": 16,
   "id": "c1f6f6a5",
   "metadata": {},
   "outputs": [
    {
     "name": "stdout",
     "output_type": "stream",
     "text": [
      "MSE: 3.7504\n"
     ]
    }
   ],
   "source": [
    "# Compute MSE between train and reconstructed_X_test\n",
    "mse = np.mean((A_test - reconstructed_X_test)**2)\n",
    "print(\"MSE: {:.4f}\".format(mse))"
   ]
  },
  {
   "cell_type": "code",
   "execution_count": 17,
   "id": "e318e9de",
   "metadata": {},
   "outputs": [
    {
     "data": {
      "image/png": "[encoded data removed]",
      "text/plain": [
       "<Figure size 432x288 with 1 Axes>"
      ]
     },
     "metadata": {
      "needs_background": "light"
     },
     "output_type": "display_data"
    }
   ],
   "source": [
    "import matplotlib.pyplot as plt\n",
    "plt.scatter(A_test, reconstructed_X_test,s=3)\n",
    "plt.show()"
   ]
  },
  {
   "cell_type": "markdown",
   "id": "10cff392",
   "metadata": {},
   "source": [
    "**ANOTHER APPROACH:**\n",
    "\n",
    "I tried implementing **Adam Optimizer** to minimize the reconstructuion error between the test data and the reconstructed output. This function takes various parameters such as x is the input data, k is the number of hidden units, learning_rate is the learning rate for the Adam Optimizer, epochs is the number of training epochs, beta1 and beta2 are the parameters for the Adam optimizer, tolerance nad verbose.\n",
    "\n",
    "Similarly, applying the ReLU activation function to the dot product of the input data \"x\" and the weight matrix \"w\" yields the hidden layer representation \"al\" and the encoder is then applied to the input.Then the decoder is applied to the hidden layer representation \"al\" by doing the dot product of \"al\" and the weight matrix \"w\" transposed, and then applying the ReLU activation function to get the reconstructed output \"a2\". I have also implemented gradient to compute for the encoder and decoder using the error and the relu function"
   ]
  },
  {
   "cell_type": "code",
   "execution_count": 5,
   "id": "7da6e6ae",
   "metadata": {},
   "outputs": [],
   "source": [
    "import numpy as np\n",
    "\n",
    "def autoencoder(x, k=512, learning_rate=0.001, epochs=30, betal=0.9, beta2=0.999, verbose=True, early_stop_tol=0.00001):\n",
    "    # He initialization\n",
    "    w = np.abs(np.random.normal(scale=np.sqrt(2 / x.shape[0]), size=(x.shape[0], k)))\n",
    "    err = np.zeros(epochs)\n",
    "    tol_ = np.inf\n",
    "    m = v = t = 0\n",
    "    if verbose:\n",
    "        print(\"Running with optimizer: Adam\")\n",
    "    for epoch in range(epochs):\n",
    "        total_error = 0\n",
    "        for i in range(x.shape[1]):\n",
    "            # encoder\n",
    "            al = np.maximum(x[:, i] @ w, 0) \n",
    "            #al = np.maximum(x[:, i] @ w, 0) # relu\n",
    "            a2 = np.maximum(al @ w.T, 0) # relu\n",
    "            # calculate error\n",
    "            error = x[:, i] - a2\n",
    "            total_error += np.abs(np.round(error)).sum()\n",
    "            # decoder\n",
    "            a2_delta = error * (a2 > 0) \n",
    "            al_delta = (a2_delta.T @ w).T * (al > 0)\n",
    "\n",
    "            dW = x[:, i].reshape(-1, 1) @ al_delta.reshape(1, -1) + (al.reshape(1, -1).T @ a2_delta.reshape(1, -1)).T\n",
    "            #adam \n",
    "            t += 1\n",
    "            m = betal * m + (1 - betal) * dW\n",
    "            v = beta2 * v + (1 - beta2) * dW ** 2\n",
    "            m_hat = m / (1 - betal ** t)\n",
    "            v_hat = v / (1 - beta2 ** t)\n",
    "            w += learning_rate * m_hat / (np.sqrt(v_hat) + 1e-8)\n",
    "\n",
    "            # apply non-negativity constraints\n",
    "            w = np.maximum(w, 0)\n",
    "            err[epoch] += np.mean(np.abs(error))\n",
    "        err[epoch] /= x.shape[1]\n",
    "        print(f\"epoch: {epoch+1}, Total Error: {total_error}\")\n",
    "        \n",
    "        if epoch > 0:\n",
    "            tol_ = np.abs(err[epoch] - err[epoch-1]) / err[epoch-1]\n",
    "            if tol_ < early_stop_tol:\n",
    "                if verbose:\n",
    "                    print(\"Early stopping criterion met: error did not improve significantly.\")\n",
    "                break\n",
    "        if verbose:\n",
    "            print(f\"epoch: {epoch+1}, error: {err[epoch]}, tol: {tol_}\")\n",
    "    return {\"w\": w, \"h\": w.T @ x, \"error\": err}\n"
   ]
  },
  {
   "cell_type": "code",
   "execution_count": 6,
   "id": "5d1bbea9",
   "metadata": {},
   "outputs": [
    {
     "name": "stdout",
     "output_type": "stream",
     "text": [
      "Running with optimizer: Adam\n",
      "epoch: 1, Total Error: 33331272.0\n",
      "epoch: 1, error: 12.555050785796828, tol: inf\n",
      "epoch: 2, Total Error: 2320560.0\n",
      "epoch: 2, error: 0.874228124676268, tol: 0.930368411917118\n",
      "epoch: 3, Total Error: 1869663.0\n",
      "epoch: 3, error: 0.7039900915525446, tol: 0.19472953147871286\n",
      "epoch: 4, Total Error: 1639051.0\n",
      "epoch: 4, error: 0.6546613385891864, tol: 0.07007023757191097\n",
      "epoch: 5, Total Error: 1020124.0\n",
      "epoch: 5, error: 0.46027998799828584, tol: 0.29691893981367196\n",
      "epoch: 6, Total Error: 473684.0\n",
      "epoch: 6, error: 0.2656196805891621, tol: 0.42291716451910727\n",
      "epoch: 7, Total Error: 397491.0\n",
      "epoch: 7, error: 0.23147815874610336, tol: 0.1285353621664274\n",
      "epoch: 8, Total Error: 303031.0\n",
      "epoch: 8, error: 0.19062876434000423, tol: 0.1764719169505092\n",
      "epoch: 9, Total Error: 244558.0\n",
      "epoch: 9, error: 0.16411815964242144, tol: 0.1390692783923136\n",
      "epoch: 10, Total Error: 215584.0\n",
      "epoch: 10, error: 0.15048240653230915, tol: 0.08308497450752364\n",
      "epoch: 11, Total Error: 202308.0\n",
      "epoch: 11, error: 0.1439796921373053, tol: 0.043212456159170326\n",
      "epoch: 12, Total Error: 192520.0\n",
      "epoch: 12, error: 0.13949425945362012, tol: 0.03115323152245437\n",
      "epoch: 13, Total Error: 185736.0\n",
      "epoch: 13, error: 0.1363542912083255, tol: 0.02250965923324326\n",
      "epoch: 14, Total Error: 179427.0\n",
      "epoch: 14, error: 0.13392301371657772, tol: 0.01783059022347323\n",
      "epoch: 15, Total Error: 172437.0\n",
      "epoch: 15, error: 0.13098934547415603, tol: 0.02190563190752441\n",
      "epoch: 16, Total Error: 170454.0\n",
      "epoch: 16, error: 0.130104583791254, tol: 0.006754455331457369\n",
      "epoch: 17, Total Error: 169934.0\n",
      "epoch: 17, error: 0.12990423596575867, tol: 0.001539898285342321\n",
      "epoch: 18, Total Error: 169813.0\n",
      "epoch: 18, error: 0.12984435441239878, tol: 0.00046096690315534765\n",
      "epoch: 19, Total Error: 169765.0\n",
      "epoch: 19, error: 0.12972795733495765, tol: 0.0008964354127514723\n",
      "epoch: 20, Total Error: 169032.0\n",
      "epoch: 20, error: 0.12944891895185795, tol: 0.002150950256460316\n",
      "epoch: 21, Total Error: 168738.0\n",
      "epoch: 21, error: 0.12924669196114894, tol: 0.0015622145966643632\n",
      "epoch: 22, Total Error: 168482.0\n",
      "epoch: 22, error: 0.1291549821679787, tol: 0.0007095716863516684\n",
      "epoch: 23, Total Error: 167336.0\n",
      "epoch: 23, error: 0.12869667399873705, tol: 0.0035485132787643025\n",
      "epoch: 24, Total Error: 166740.0\n",
      "epoch: 24, error: 0.12835108923990884, tol: 0.0026852656567612305\n",
      "epoch: 25, Total Error: 166748.0\n",
      "epoch: 25, error: 0.12833849770994557, tol: 9.810224469336879e-05\n",
      "epoch: 26, Total Error: 166791.0\n",
      "epoch: 26, error: 0.12832487477621843, tol: 0.00010614845872616418\n",
      "epoch: 27, Total Error: 166545.0\n",
      "epoch: 27, error: 0.1282946855252484, tol: 0.0002352564225968066\n",
      "epoch: 28, Total Error: 166248.0\n",
      "epoch: 28, error: 0.12817683130224558, tol: 0.000918621239222084\n",
      "epoch: 29, Total Error: 165451.0\n",
      "epoch: 29, error: 0.1279665280048167, tol: 0.0016407278545759907\n",
      "epoch: 30, Total Error: 165371.0\n",
      "epoch: 30, error: 0.12795068104942772, tol: 0.00012383672227459118\n"
     ]
    }
   ],
   "source": [
    "# Train the autoencoder model\n",
    "autoencoder_model = autoencoder(train)\n",
    "\n",
    "# Reconstruct the test_set by looping through each column\n",
    "re_test_set = np.zeros((A_test.shape[0], A_test.shape[1]))\n",
    "\n",
    "for i in range(A_test.shape[1]):\n",
    "    # Encode the test data using the trained model\n",
    "    encoded = np.maximum(np.dot(A_test[:, i], autoencoder_model['w']), 0)\n",
    "    \n",
    "    # Decode the encoded data using the trained model\n",
    "    decoded = np.maximum(np.dot(encoded, autoencoder_model['w'].T), 0)\n",
    "    \n",
    "    # Store the reconstructed data in the re_test_set matrix\n",
    "    re_test_set[:, i] = decoded\n"
   ]
  },
  {
   "cell_type": "code",
   "execution_count": 7,
   "id": "f6eb11e4",
   "metadata": {},
   "outputs": [
    {
     "name": "stdout",
     "output_type": "stream",
     "text": [
      "MSE: 0.5731\n"
     ]
    }
   ],
   "source": [
    "# Compute MSE between train and reconstructed_X_test\n",
    "mse = np.mean((A_test - re_test_set)**2)\n",
    "print(\"MSE: {:.4f}\".format(mse))"
   ]
  },
  {
   "cell_type": "code",
   "execution_count": 8,
   "id": "52404611",
   "metadata": {},
   "outputs": [
    {
     "data": {
      "image/png": "[encoded data removed]",
      "text/plain": [
       "<Figure size 640x480 with 1 Axes>"
      ]
     },
     "metadata": {},
     "output_type": "display_data"
    }
   ],
   "source": [
    "import matplotlib.pyplot as plt\n",
    "plt.scatter(A_test, re_test_set,s=3)\n",
    "plt.show()"
   ]
  },
  {
   "cell_type": "markdown",
   "id": "453f4489",
   "metadata": {},
   "source": [
    "As the value of MSE was less than that of the previous autoencoder model I built, I felt this model accuratly reconstructed the input data. Similarly, through the plot we can see that the plot shows some linear pattern which is a far better than the previous model. "
   ]
  },
  {
   "cell_type": "markdown",
   "id": "36ffd9bc",
   "metadata": {},
   "source": [
    "I also tried tweaking around to make some changes with the number of hidden layers, learning rate, and epochs to see how it performed and among all the hidden layer with 512 neurons, learning rate of 0.0001 and epoch with 15 performed better than the other."
   ]
  },
  {
   "cell_type": "code",
   "execution_count": 32,
   "id": "b3459845",
   "metadata": {},
   "outputs": [],
   "source": [
    "def autoencoder(x, k=128, learning_rate=0.001, epochs=15, betal=0.9, beta2=0.999, verbose=True, early_stop_tol=0.00001):\n",
    "    # He initialization\n",
    "    #w = np.abs(np.random.normal(scale=np.sqrt(2/x.shape[0]), size=(x.shape[1], k)))\n",
    "    #err = np.zeros(epochs)\n",
    "    #m = v = t = 0\n",
    "    w = np.abs(np.random.normal(scale=np.sqrt(2 / x.shape[0]), size=(x.shape[0], k)))\n",
    "    err = np.zeros(epochs)\n",
    "    tol_ = np.inf\n",
    "    m = v = t = 0\n",
    "    if verbose:\n",
    "        print(\"Running with optimizer: Adam\")\n",
    "    for epoch in range(epochs):\n",
    "        total_error = 0\n",
    "        for i in range(x.shape[1]):\n",
    "            # encoder\n",
    "            al = np.maximum(x[:, i] @ w, 0) \n",
    "            #al = np.maximum(x[:, i] @ w, 0) # relu\n",
    "            a2 = np.maximum(al @ w.T, 0) # relu\n",
    "            # calculate error\n",
    "            error = x[:, i] - a2\n",
    "            total_error += np.abs(np.round(error)).sum()\n",
    "            # decoder\n",
    "            a2_delta = error * (a2 > 0) \n",
    "            al_delta = (a2_delta.T @ w).T * (al > 0)\n",
    "\n",
    "            dW = x[:, i].reshape(-1, 1) @ al_delta.reshape(1, -1) + (al.reshape(1, -1).T @ a2_delta.reshape(1, -1)).T\n",
    "            #adam \n",
    "            t += 1\n",
    "            m = betal * m + (1 - betal) * dW\n",
    "            v = beta2 * v + (1 - beta2) * dW ** 2\n",
    "            m_hat = m / (1 - betal ** t)\n",
    "            v_hat = v / (1 - beta2 ** t)\n",
    "            w += learning_rate * m_hat / (np.sqrt(v_hat) + 1e-8)\n",
    "\n",
    "            # apply non-negativity constraints\n",
    "            w = np.maximum(w, 0)\n",
    "            err[epoch] += np.mean(np.abs(error))\n",
    "        err[epoch] /= x.shape[1]\n",
    "        print(f\"epoch: {epoch+1}, Total Error: {total_error}\")\n",
    "        \n",
    "        if epoch > 0:\n",
    "            tol_ = np.abs(err[epoch] - err[epoch-1]) / err[epoch-1]\n",
    "            if tol_ < early_stop_tol:\n",
    "                if verbose:\n",
    "                    print(\"Early stopping criterion met: error did not improve significantly.\")\n",
    "                break\n",
    "        if verbose:\n",
    "            print(f\"epoch: {epoch+1}, error: {err[epoch]}, tol: {tol_}\")\n",
    "    return {\"w\": w, \"h\": w.T @ x, \"error\": err}\n"
   ]
  },
  {
   "cell_type": "code",
   "execution_count": 33,
   "id": "65f9c418",
   "metadata": {},
   "outputs": [
    {
     "name": "stdout",
     "output_type": "stream",
     "text": [
      "Running with optimizer: Adam\n",
      "epoch: 1, Total Error: 8708401.0\n",
      "epoch: 1, error: 3.2851764251766458, tol: inf\n",
      "epoch: 2, Total Error: 1933824.0\n",
      "epoch: 2, error: 0.7225402937085837, tol: 0.7800604289708026\n",
      "epoch: 3, Total Error: 1713646.0\n",
      "epoch: 3, error: 0.6796774581412384, tol: 0.059322415567086555\n",
      "epoch: 4, Total Error: 1559262.0\n",
      "epoch: 4, error: 0.6306162896301417, tol: 0.07218301552219736\n",
      "epoch: 5, Total Error: 1329638.0\n",
      "epoch: 5, error: 0.5635622707816177, tol: 0.10633093364564274\n",
      "epoch: 6, Total Error: 1264754.0\n",
      "epoch: 6, error: 0.5463608526719199, tol: 0.03052265739124219\n",
      "epoch: 7, Total Error: 1250808.0\n",
      "epoch: 7, error: 0.542605279211442, tol: 0.006873796762911748\n",
      "epoch: 8, Total Error: 1245023.0\n",
      "epoch: 8, error: 0.5411823463002906, tol: 0.002622408895872311\n",
      "epoch: 9, Total Error: 1242438.0\n",
      "epoch: 9, error: 0.5404732628460641, tol: 0.0013102486787938082\n",
      "epoch: 10, Total Error: 1241298.0\n",
      "epoch: 10, error: 0.5400981591629089, tol: 0.0006940281951783111\n",
      "epoch: 11, Total Error: 1241285.0\n",
      "epoch: 11, error: 0.539979399631774, tol: 0.0002198850877755286\n",
      "epoch: 12, Total Error: 1240971.0\n",
      "epoch: 12, error: 0.5398548282475845, tol: 0.00023069654930258407\n",
      "epoch: 13, Total Error: 1240392.0\n",
      "epoch: 13, error: 0.5396701514438874, tol: 0.00034208604616267857\n",
      "epoch: 14, Total Error: 1239254.0\n",
      "epoch: 14, error: 0.5394433605819887, tol: 0.00042023977292780947\n",
      "epoch: 15, Total Error: 1238289.0\n",
      "epoch: 15, error: 0.5391353055911391, tol: 0.0005710608626590114\n"
     ]
    }
   ],
   "source": [
    "# Train the autoencoder model\n",
    "autoencoder_model = autoencoder(train)\n",
    "\n",
    "# Reconstruct the test_set by looping through each column\n",
    "re_test_set = np.zeros((A_test.shape[0], A_test.shape[1]))\n",
    "\n",
    "for i in range(A_test.shape[1]):\n",
    "    # Encode the test data using the trained model\n",
    "    encoded = np.maximum(np.dot(A_test[:, i], autoencoder_model['w']), 0)\n",
    "    \n",
    "    # Decode the encoded data using the trained model\n",
    "    decoded = np.maximum(np.dot(encoded, autoencoder_model['w'].T), 0)\n",
    "    \n",
    "    # Store the reconstructed data in the re_test_set matrix\n",
    "    re_test_set[:, i] = decoded\n"
   ]
  },
  {
   "cell_type": "code",
   "execution_count": 34,
   "id": "d6c71ca5",
   "metadata": {},
   "outputs": [
    {
     "name": "stdout",
     "output_type": "stream",
     "text": [
      "MSE: 2.0656\n"
     ]
    }
   ],
   "source": [
    "# Compute MSE between train and reconstructed_X_test\n",
    "mse = np.mean((A_test - re_test_set)**2)\n",
    "print(\"MSE: {:.4f}\".format(mse))"
   ]
  },
  {
   "cell_type": "code",
   "execution_count": 35,
   "id": "61444d3e",
   "metadata": {},
   "outputs": [
    {
     "data": {
      "image/png": "[encoded data removed]",
      "text/plain": [
       "<Figure size 432x288 with 1 Axes>"
      ]
     },
     "metadata": {
      "needs_background": "light"
     },
     "output_type": "display_data"
    }
   ],
   "source": [
    "import matplotlib.pyplot as plt\n",
    "plt.scatter(A_test, re_test_set,s=3)\n",
    "plt.show()"
   ]
  },
  {
   "cell_type": "markdown",
   "id": "4eab9f7b",
   "metadata": {},
   "source": [
    "**Hyperparameter Tuning**\n",
    "\n",
    "I also tried implementing some hyperparameter tuning. The code below takes several hyperparameter such as k_range, lr_range, epochs_range, beta1_range, beta2_range. Through hyperparameter tuning, it searches for the best combination of the hyperparameter by iterating through all the possible combination and it selects the one with the lowest error.\n"
   ]
  },
  {
   "cell_type": "code",
   "execution_count": 18,
   "id": "2ba81f80",
   "metadata": {},
   "outputs": [],
   "source": [
    "import itertools\n",
    "\n",
    "def hyperparameter_tuning(x, k_range, lr_range, epochs_range, betal_range, beta2_range, verbose=True, early_stop_tol=0.00001):\n",
    "    best_error = np.inf\n",
    "    best_params = {}\n",
    "    for params in itertools.product(k_range, lr_range, epochs_range, betal_range, beta2_range):\n",
    "        k, lr, epochs, betal, beta2 = params\n",
    "        result = autoencoder(x, k=k, learning_rate=lr, epochs=epochs, betal=betal, beta2=beta2, verbose=verbose, early_stop_tol=early_stop_tol)\n",
    "        if result['error'][-1] < best_error:\n",
    "            best_error = result['error'][-1]\n",
    "            best_params = {'k': k, 'learning_rate': lr, 'epochs': epochs, 'betal': betal, 'beta2': beta2}\n",
    "    if verbose:\n",
    "        print(\"Best hyperparameters:\", best_params)\n",
    "        print(\"Best error:\", best_error)\n",
    "    return best_params\n"
   ]
  },
  {
   "cell_type": "code",
   "execution_count": 22,
   "id": "84515bca",
   "metadata": {},
   "outputs": [],
   "source": [
    "#k_range = [128, 256, 512, 1024]\n",
    "#lr_range = [0.0001, 0.001, 0.01]\n",
    "#epochs_range = [30, 50, 100]\n",
    "#betal_range = [0.85, 0.9, 0.95]\n",
    "#beta2_range = [0.99, 0.999, 0.9999]\n",
    "\n",
    "#best_params = hyperparameter_tuning(train, k_range, lr_range, epochs_range, betal_range, beta2_range)\n"
   ]
  },
  {
   "cell_type": "markdown",
   "id": "40385c87",
   "metadata": {},
   "source": [
    "**Note** I have commented the code as it takes long time to execute"
   ]
  },
  {
   "cell_type": "code",
   "execution_count": 20,
   "id": "1b502f50",
   "metadata": {},
   "outputs": [],
   "source": [
    "re_test_set_subset = re_test_set[:25, :1000]\n"
   ]
  },
  {
   "cell_type": "code",
   "execution_count": 21,
   "id": "e787b396",
   "metadata": {},
   "outputs": [],
   "source": [
    "np.savetxt('submission.csv', re_test_set_subset, delimiter=',')"
   ]
  },
  {
   "cell_type": "markdown",
   "id": "dfdf1eb6",
   "metadata": {},
   "source": [
    "After downloading the submission.csv file, I then referred back to R studio to convert the submission file into Kaggle submission format by reshaping them from wide to tall following below code in R.\n",
    "\n"
   ]
  },
  {
   "cell_type": "markdown",
   "id": "34f17d9c",
   "metadata": {},
   "source": [
    "Convert to Kaggle submission format by reshaping from wide to tall:\n",
    "```{r}\n",
    "test <- as.matrix(read.csv(\"submission.csv\", row.names = 1))\n",
    "```\n",
    "\n",
    "\n",
    "\n",
    "```{R}\n",
    "sample_submission <- reshape2::melt(test)\n",
    "head(sample_submission)\n",
    "```\n",
    "\n",
    "```{R}\n",
    "sample_submission <- data.frame(\n",
    "  \"ID\" = paste0(\"ID_\", 1:nrow(sample_submission)), \n",
    "  \"Expected\" = sample_submission$value)\n",
    "head(sample_submission)\n",
    "```\n",
    "\n",
    "Write the final submission file.\n",
    "\n",
    "```{R}\n",
    "write.csv(sample_submission, \"my_submission.csv\", row.names = FALSE)\n",
    "```"
   ]
  },
  {
   "cell_type": "markdown",
   "id": "4e442cab",
   "metadata": {},
   "source": [
    "**CONCLUSION:**\n",
    "\n",
    "The autoencoder model trained had a promising result in reconstructing the test data and by minimizing the mean squared error between the original data and the reconstruction, it shows the model captured essential feature and the pattern of the data."
   ]
  },
  {
   "cell_type": "code",
   "execution_count": null,
   "id": "59dfe894",
   "metadata": {},
   "outputs": [],
   "source": []
  }
 ],
 "metadata": {
  "kernelspec": {
   "display_name": "Python 3 (ipykernel)",
   "language": "python",
   "name": "python3"
  },
  "language_info": {
   "codemirror_mode": {
    "name": "ipython",
    "version": 3
   },
   "file_extension": ".py",
   "mimetype": "text/x-python",
   "name": "python",
   "nbconvert_exporter": "python",
   "pygments_lexer": "ipython3",
   "version": "3.9.13"
  }
 },
 "nbformat": 4,
 "nbformat_minor": 5
}
