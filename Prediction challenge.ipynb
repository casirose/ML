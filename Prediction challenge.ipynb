{
 "cells": [
  {
   "cell_type": "markdown",
   "id": "32c8f123",
   "metadata": {},
   "source": [
    "# ML Kaggle Challenge 2"
   ]
  },
  {
   "cell_type": "markdown",
   "id": "eda5879c",
   "metadata": {},
   "source": []
  },
  {
   "cell_type": "markdown",
   "id": "43f7ae7a",
   "metadata": {},
   "source": [
    "**Introduction**\n",
    "\n",
    "We first jumpstarted our Kaggle challenge implementing the Multivariate Regression to try and see how it goes and after getting success on implementing Multivariate Regression, we thought of moving towards implementing the NMF model. \n",
    "\n",
    "We still tried understanding the NMF algorithm and for few days tried implementing it but it was quite challenging so we again decided on going with the Multivariate Regression first and then to work on NMF.\n"
   ]
  },
  {
   "cell_type": "markdown",
   "id": "4f0bca1b",
   "metadata": {},
   "source": [
    "**Import Dataset**\n",
    "\n",
    "I first imported the dataset and also stored it as an array with the below code using numpy.ndarray."
   ]
  },
  {
   "cell_type": "code",
   "execution_count": 1,
   "id": "f3cd5fb2",
   "metadata": {},
   "outputs": [],
   "source": [
    "import numpy as np\n",
    "\n",
    "#importing data set and store as numpy.ndarray array\n",
    "A = np.genfromtxt('training_set_rna1.csv', delimiter=',', dtype=None, encoding=None)\n",
    "y = np.genfromtxt('training_set_adt1.csv', delimiter=',', dtype=None, encoding=None)\n",
    "A_test = np.genfromtxt('test_set_rna1.csv', delimiter=',', dtype=None, encoding=None)\n"
   ]
  },
  {
   "cell_type": "code",
   "execution_count": 2,
   "id": "97843bfc",
   "metadata": {},
   "outputs": [],
   "source": [
    "# Doing matrix multiplication for solving ax=b\n",
    "a = np.dot(A,A.T)\n",
    "b = np.dot(A,y.T)"
   ]
  },
  {
   "cell_type": "code",
   "execution_count": 3,
   "id": "15cb90ed",
   "metadata": {},
   "outputs": [
    {
     "data": {
      "text/plain": [
       "(639, 639)"
      ]
     },
     "execution_count": 3,
     "metadata": {},
     "output_type": "execute_result"
    }
   ],
   "source": [
    "a.shape"
   ]
  },
  {
   "cell_type": "code",
   "execution_count": 4,
   "id": "6758c1c4",
   "metadata": {},
   "outputs": [
    {
     "data": {
      "text/plain": [
       "(639, 25)"
      ]
     },
     "execution_count": 4,
     "metadata": {},
     "output_type": "execute_result"
    }
   ],
   "source": [
    "b.shape"
   ]
  },
  {
   "cell_type": "markdown",
   "id": "fd0e5598",
   "metadata": {},
   "source": [
    "**Applying Multivariate Regression**\n",
    "\n",
    "Multivariate Regression is used when we want to predict the matrix based on the value of two different matrix. Here, our Multivariate Regression technique refers to Ax=y, we have A as training_set_rna1 and y as training_set_adt1. We would need to solve x with the value of A and y and for solving x, we use Gradient Descent."
   ]
  },
  {
   "cell_type": "markdown",
   "id": "ba836a8a",
   "metadata": {},
   "source": [
    "**Gradient Descent**\n",
    "\n",
    "Gradient Descent is the optimization algorithm that minimizes the loss function of a model. Through gradient descent, it finds the value of the model parameters which provides smallest possible value of the loss function.\n",
    "\n",
    "Our gd_solve function takes the parameter a, b, max_iter(maximum iteration), tol_cutoff(tolerance cutoff). The maximum iteration and tolerance cutoff will lead to algorithm to stop once the model reaches the maximum iteration and tolerance cutoff point.\n",
    "\n",
    "The gd_solve function first sets the x matrix as an array of zero which has the same dimension as that of the b matrix. Our function then performs the iterative process of solving a and b where it first computes the residual z which is calculated by dividing the ith element of b with the diagonal element of a."
   ]
  },
  {
   "cell_type": "code",
   "execution_count": 5,
   "id": "76f02e0b",
   "metadata": {},
   "outputs": [],
   "source": [
    "#Function solving gradient descent algorithm\n",
    "\n",
    "def gd_solve(a, b, max_iter=10000, tol_cutoff=1e-15):\n",
    "    x = np.zeros_like(b)\n",
    "    for iter in range(1, max_iter+1):\n",
    "        tol = np.zeros_like(b)\n",
    "        for i in range(len(b)):\n",
    "            z = b[i] / a[i, i]\n",
    "            x[i] += z\n",
    "            b -= z * a[:, i].reshape((len(b), 1))\n",
    "            tol += np.abs(z / x[i])\n",
    "        if np.all(tol < tol_cutoff):\n",
    "            print('Break')\n",
    "            break\n",
    "    return x"
   ]
  },
  {
   "cell_type": "code",
   "execution_count": 6,
   "id": "888225fc",
   "metadata": {},
   "outputs": [],
   "source": [
    "#call the gd_solve function\n",
    "x = gd_solve(a,b)"
   ]
  },
  {
   "cell_type": "code",
   "execution_count": 7,
   "id": "184dd075",
   "metadata": {},
   "outputs": [
    {
     "data": {
      "text/plain": [
       "(639, 25)"
      ]
     },
     "execution_count": 7,
     "metadata": {},
     "output_type": "execute_result"
    }
   ],
   "source": [
    "x.shape"
   ]
  },
  {
   "cell_type": "markdown",
   "id": "49446f01",
   "metadata": {},
   "source": [
    "We first tried on implementing the Multivariate Regression and see how our model did for predicting the test_adt. We got a score of **0.80178** from our first Kaggle submission through which we knew that we were on a right track. We also started working on understanding and writing NMF function referring to the pseudocode. We simultaneously worked on improving our Multivariate Regression model too. We worked on changing the maximum iteration which improved the score to **0.80217**\n"
   ]
  },
  {
   "cell_type": "markdown",
   "id": "45762a35",
   "metadata": {},
   "source": [
    "After trying various methods, adding **Learning Rate** to our model helped in significantly increasing our score. **Learning Rate** is a tuning parameter in an optimization algorithm which determined the step size for each iteration while moving towards a minimum of a loss function."
   ]
  },
  {
   "cell_type": "code",
   "execution_count": 8,
   "id": "ccbe8f79",
   "metadata": {},
   "outputs": [],
   "source": [
    "#using gd_solve for solving the value of x adding learning rate\n",
    "def gd_solve(a, b, learning_rate = 0.01, max_iter=18000, tol_cutoff=1e-9):\n",
    "    x = np.zeros_like(b)\n",
    "    for iter in range(1, max_iter+1):\n",
    "        tol = np.zeros_like(b)\n",
    "        for i in range(len(b)):\n",
    "            #print(b[i])\n",
    "            z = b[i] / a[i, i]\n",
    "            x[i] += learning_rate * z\n",
    "            b -= learning_rate * z * a[:, i].reshape((len(b), 1))\n",
    "            tol += np.abs(z / x[i])\n",
    "        if np.all(tol < tol_cutoff):\n",
    "            print('Break')\n",
    "            break\n",
    "    return x"
   ]
  },
  {
   "cell_type": "code",
   "execution_count": 9,
   "id": "d709c80a",
   "metadata": {},
   "outputs": [],
   "source": [
    "#call the function above with learning = 0.0001\n",
    "x = gd_solve(a, b, learning_rate = 0.0001)"
   ]
  },
  {
   "cell_type": "code",
   "execution_count": 10,
   "id": "9035dfe9",
   "metadata": {},
   "outputs": [
    {
     "data": {
      "text/plain": [
       "(639, 25)"
      ]
     },
     "execution_count": 10,
     "metadata": {},
     "output_type": "execute_result"
    }
   ],
   "source": [
    "x.shape"
   ]
  },
  {
   "cell_type": "markdown",
   "id": "f193b751",
   "metadata": {},
   "source": [
    "Implementing learning rate to our model showed a improvement in the score to **0.80235**. We also tried implementing other method such as Guassian Elimination, regularization, and momentum. However, all of these method didn't provide any improvement in  our model."
   ]
  },
  {
   "cell_type": "code",
   "execution_count": 11,
   "id": "ee75beb3",
   "metadata": {},
   "outputs": [],
   "source": [
    "#function gd_solve using learning rate and regularization\n",
    "def gd_solve_reg(a, b, learning_rate=0.01, max_iter=18000, tol_cutoff=1e-15, alpha=0):\n",
    "    x = np.zeros_like(b)\n",
    "    for iter in range(1, max_iter+1):\n",
    "        tol = np.zeros_like(b)\n",
    "        for i in range(len(b)):\n",
    "            z = b[i] / a[i, i]\n",
    "            if alpha != 0:\n",
    "                x[i] *= (1 - learning_rate * alpha)\n",
    "            x[i] += learning_rate * z\n",
    "            b -= learning_rate * z * a[:, i].reshape((len(b), 1))\n",
    "            tol += np.abs(z / x[i])\n",
    "        if np.all(tol < tol_cutoff):\n",
    "            break\n",
    "    return x\n",
    "\n",
    "x =gd_solve_reg(a,b,alpha=0.01)"
   ]
  },
  {
   "cell_type": "markdown",
   "id": "c21c6800",
   "metadata": {},
   "source": [
    "Applying regularization didn't provided any improvement in our model, so we focused more on changing the learning rate, maximum iteration and tolerance cutoff. We tried many learning rate and maximum iteration. Through running multiple times, we concluded that our optimal learning rate was at **0.0001** which improved our score to **0.81240**. Further, we changed and improved the maximum iteration and found our optimal maximum iteration at **18000** which improved our score to **0.81440**."
   ]
  },
  {
   "cell_type": "code",
   "execution_count": 12,
   "id": "06e281ab",
   "metadata": {},
   "outputs": [
    {
     "data": {
      "text/plain": [
       "(639, 25)"
      ]
     },
     "execution_count": 12,
     "metadata": {},
     "output_type": "execute_result"
    }
   ],
   "source": [
    "x.shape"
   ]
  },
  {
   "cell_type": "code",
   "execution_count": 13,
   "id": "63e990ca",
   "metadata": {},
   "outputs": [],
   "source": [
    "#Transposing the matrix and performing matrix multiplication\n",
    "yt= np.dot(x.T,A_test)"
   ]
  },
  {
   "cell_type": "code",
   "execution_count": 14,
   "id": "51e86b62",
   "metadata": {},
   "outputs": [
    {
     "data": {
      "text/plain": [
       "(25, 1000)"
      ]
     },
     "execution_count": 14,
     "metadata": {},
     "output_type": "execute_result"
    }
   ],
   "source": [
    "yt.shape"
   ]
  },
  {
   "cell_type": "code",
   "execution_count": 15,
   "id": "e5f45466",
   "metadata": {},
   "outputs": [],
   "source": [
    "# save the array to a CSV file\n",
    "np.savetxt('test18000.csv', yt, delimiter=',')"
   ]
  },
  {
   "cell_type": "markdown",
   "id": "c584b374",
   "metadata": {},
   "source": [
    "After downloading our csv file, we then worked on Professors code in R studio to change our csv file into Kaggle submission format following the below code in R"
   ]
  },
  {
   "cell_type": "markdown",
   "id": "1a7b4833",
   "metadata": {},
   "source": [
    "Convert to Kaggle submission format by reshaping from wide to tall:\n",
    "```{r}\n",
    "test <- as.matrix(read.csv(\"submission.csv\", row.names = 1))\n",
    "```\n",
    "\n",
    "\n",
    "\n",
    "```{R}\n",
    "sample_submission <- reshape2::melt(test)\n",
    "head(sample_submission)\n",
    "```\n",
    "\n",
    "```{R}\n",
    "sample_submission <- data.frame(\n",
    "  \"ID\" = paste0(\"ID_\", 1:nrow(sample_submission)), \n",
    "  \"Expected\" = sample_submission$value)\n",
    "head(sample_submission)\n",
    "```\n",
    "\n",
    "Write the final submission file.\n",
    "\n",
    "```{R}\n",
    "write.csv(sample_submission, \"my_submission.csv\", row.names = FALSE)\n",
    "```"
   ]
  },
  {
   "cell_type": "markdown",
   "id": "0e9f4fd7",
   "metadata": {},
   "source": [
    "**Implementing NMF Algorithm - Other Approach**"
   ]
  },
  {
   "cell_type": "markdown",
   "id": "6e219858",
   "metadata": {},
   "source": [
    "We finalized with going with the Multivariate Regression, however, we also tried NMF approach. Non-Negative Matrix Factorization is one of the dimension reduction technique that is used to factorize non-negative matrix A into two non-negative matrix W and H. Firstly, we executed our gradient descent algorithm, the gradient descent algorithm for NMF is quite different than that of the Multivariate Regression as in NMF we include only non-negativity."
   ]
  },
  {
   "cell_type": "markdown",
   "id": "93f6119e",
   "metadata": {},
   "source": [
    "**Gradient Descent for NMF**\n",
    "\n",
    "The function first sets x as a vector of zeros and the loop is performed which updates x to minimize the residual error between a and b. Also, if the maximum iteration is achieved before convergence then the algorithm exits and it then provides us the estimate of x.\n"
   ]
  },
  {
   "cell_type": "code",
   "execution_count": 16,
   "id": "6e3d9b1c",
   "metadata": {},
   "outputs": [],
   "source": [
    "#Function that performs gradient descent\n",
    "\n",
    "def gd_solve(a, b, max_iter=100, tol_cutoff=1e-8):\n",
    "    x = np.zeros(len(b))\n",
    "    for iter in range(1, max_iter+1):\n",
    "        tol = 0\n",
    "        for i in range(len(b)):\n",
    "            if a[i, i] == 0:\n",
    "                z = 0\n",
    "            else:\n",
    "                z = b[i] / a[i, i]\n",
    "            \n",
    "            if x[i] + z < 0:\n",
    "                z = -x[i]\n",
    "                x[i]=0\n",
    "            else:    \n",
    "                x[i] = x[i] + z\n",
    "            \n",
    "            b = b - z * a[:, i]\n",
    "            tol = tol + abs(z / (x[i] + 1e-15))\n",
    "        if tol < tol_cutoff:\n",
    "            break\n",
    "    return x\n",
    "\n"
   ]
  },
  {
   "cell_type": "code",
   "execution_count": 17,
   "id": "c7b79623",
   "metadata": {},
   "outputs": [],
   "source": [
    "#Function that performs NMF\n",
    "\n",
    "def nmf(A, k, max_iter=100):\n",
    "    # Initialize W and H\n",
    "    m, n = A.shape\n",
    "    W = abs(np.random.rand(m, k))\n",
    "    H = np.zeros((k, n))\n",
    "    at = A.T\n",
    "\n",
    "    \n",
    "    # Iteratively update W and H\n",
    "    for i in range(max_iter):\n",
    "        # Update H\n",
    "        a = np.dot(W.T, W)\n",
    "        #print('a',a.shape)\n",
    "        for j in range(n):\n",
    "            \n",
    "            b = np.dot(W.T, A[:, j])\n",
    "            x= gd_solve(a,b)\n",
    "            H[:,j] = x\n",
    "      \n",
    "        # Normalize H\n",
    "        \n",
    "        #print(np.sum(H, axis=0))\n",
    "        #print('H',H.shape)\n",
    "        \n",
    "        #print('a',a.shape)\n",
    "        \n",
    "        # Update W\n",
    "        aw = np.dot(H,H.T)\n",
    "        #print('aw',aw.shape)\n",
    "        for i in range(0,m):\n",
    "            #print('i',i)\n",
    "            bw = np.dot(H, at[:,i])\n",
    "            #print('bw',bw.shape)\n",
    "            x1= gd_solve(aw,bw)\n",
    "            W.T[:, i] = x1\n",
    "\n",
    " \n",
    "    return W, H\n",
    "\n"
   ]
  },
  {
   "cell_type": "markdown",
   "id": "e6f704c8",
   "metadata": {},
   "source": [
    "The above NMF function first randomly intializes W and H. Through NMF, we are looking to find the best factorization that minimizes the error between A and WH. We first update H from the given A and W (which is randomly intialized). Once we have the H, we then update W. The NMF function uses the gradient descent (gd_solve function) to update H and W."
   ]
  },
  {
   "cell_type": "code",
   "execution_count": 18,
   "id": "7617bd49",
   "metadata": {},
   "outputs": [],
   "source": [
    "#specifying number of k\n",
    "k = 15\n",
    "w1,h1 = nmf(A, k)"
   ]
  },
  {
   "cell_type": "markdown",
   "id": "e93ed943",
   "metadata": {},
   "source": [
    "In the above code, the variable k specifies the value of k in the NMF which specifies the number of column in W and rows in W."
   ]
  },
  {
   "cell_type": "code",
   "execution_count": 19,
   "id": "d03bf9b8",
   "metadata": {},
   "outputs": [
    {
     "data": {
      "text/plain": [
       "(639, 15)"
      ]
     },
     "execution_count": 19,
     "metadata": {},
     "output_type": "execute_result"
    }
   ],
   "source": [
    "w1.shape"
   ]
  },
  {
   "cell_type": "code",
   "execution_count": 20,
   "id": "cd333af8",
   "metadata": {},
   "outputs": [
    {
     "data": {
      "text/plain": [
       "(15, 4000)"
      ]
     },
     "execution_count": 20,
     "metadata": {},
     "output_type": "execute_result"
    }
   ],
   "source": [
    "h1.shape"
   ]
  },
  {
   "cell_type": "code",
   "execution_count": 21,
   "id": "dd90bd7e",
   "metadata": {},
   "outputs": [],
   "source": [
    "#calculating A1 which is predicted with NMF\n",
    "A1=np.dot(w1,h1)"
   ]
  },
  {
   "cell_type": "code",
   "execution_count": 22,
   "id": "32ad8ae9",
   "metadata": {},
   "outputs": [
    {
     "data": {
      "image/png": "[encoded data removed]",
      "text/plain": [
       "<Figure size 640x480 with 1 Axes>"
      ]
     },
     "metadata": {},
     "output_type": "display_data"
    }
   ],
   "source": [
    "import matplotlib.pyplot as plt\n",
    "plt.scatter(A, A1,s=3)\n",
    "plt.show()"
   ]
  },
  {
   "cell_type": "markdown",
   "id": "f74fe13f",
   "metadata": {},
   "source": [
    "We tried implementing various value of k starting with 2,3 9, and 15. Among all, k as 15 provided more accuracy of the model. We also tried scaling, it showed some error, so we mainly focused on implementing the NMF model first and tried to see if our function provided any error or not. We also calculated mean square error to find out the error between the observed and predicted value. While setting k as 15, our mean square error decreased to 0.69 from 3."
   ]
  },
  {
   "cell_type": "markdown",
   "id": "2efa14bc",
   "metadata": {},
   "source": [
    "**Conclusion**\n",
    "\n",
    "The Multivariate Regression provided good score than I expected, I enjoyed implementing the class knowledge practically to predict. Furthermore, I also hoped to finish the NMF model,however, due to limited time we couldn't complete it. I look forward to continuing this project to implement the NMF model and see how both the NMF model and Multivariate Regression performs to compare the score. "
   ]
  },
  {
   "cell_type": "markdown",
   "id": "d857d76a",
   "metadata": {},
   "source": [
    "**Reference**\n",
    "\n",
    "1. https://www.kaggle.com/code/zdebruine/getting-started-with-ml-challenge-2-prediction\n",
    "2. https://www.csie.ntu.edu.tw/~cjlin/papers/pgradnmf.pdf\n"
   ]
  }
 ],
 "metadata": {
  "kernelspec": {
   "display_name": "Python 3 (ipykernel)",
   "language": "python",
   "name": "python3"
  },
  "language_info": {
   "codemirror_mode": {
    "name": "ipython",
    "version": 3
   },
   "file_extension": ".py",
   "mimetype": "text/x-python",
   "name": "python",
   "nbconvert_exporter": "python",
   "pygments_lexer": "ipython3",
   "version": "3.9.13"
  }
 },
 "nbformat": 4,
 "nbformat_minor": 5
}
