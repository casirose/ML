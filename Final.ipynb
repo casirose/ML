{
 "cells": [
  {
   "cell_type": "code",
   "execution_count": 8,
   "id": "24ec599f",
   "metadata": {},
   "outputs": [],
   "source": [
    "import numpy as np\n",
    "\n",
    "#importing data set and store as numpy.ndarray array\n",
    "A = np.genfromtxt('training_set_rna1.csv', delimiter=',', dtype=None, encoding=None)\n",
    "y = np.genfromtxt('training_set_adt1.csv', delimiter=',', dtype=None, encoding=None)\n",
    "A_test = np.genfromtxt('test_set_rna1.csv', delimiter=',', dtype=None, encoding=None)\n"
   ]
  },
  {
   "cell_type": "code",
   "execution_count": 9,
   "id": "5575bc1a",
   "metadata": {},
   "outputs": [],
   "source": [
    "# Doing matrix multiplication for solving ax=b\n",
    "a = np.dot(A,A.T)\n",
    "b = np.dot(A,y.T)\n",
    "\n"
   ]
  },
  {
   "cell_type": "code",
   "execution_count": 10,
   "id": "0f15436b",
   "metadata": {},
   "outputs": [
    {
     "data": {
      "text/plain": [
       "(639, 639)"
      ]
     },
     "execution_count": 10,
     "metadata": {},
     "output_type": "execute_result"
    }
   ],
   "source": [
    "a.shape"
   ]
  },
  {
   "cell_type": "code",
   "execution_count": 11,
   "id": "9485826e",
   "metadata": {},
   "outputs": [
    {
     "data": {
      "text/plain": [
       "(639, 25)"
      ]
     },
     "execution_count": 11,
     "metadata": {},
     "output_type": "execute_result"
    }
   ],
   "source": [
    "b.shape"
   ]
  },
  {
   "cell_type": "code",
   "execution_count": 12,
   "id": "c300c185",
   "metadata": {},
   "outputs": [],
   "source": [
    "#using gd_solve for solving the value of x\n",
    "def gd_solve(a, b, learning_rate = 0.01, max_iter=18000, tol_cutoff=1e-9):\n",
    "    x = np.zeros_like(b)\n",
    "    for iter in range(1, max_iter+1):\n",
    "        tol = np.zeros_like(b)\n",
    "        for i in range(len(b)):\n",
    "            #print(b[i])\n",
    "            z = b[i] / a[i, i]\n",
    "            x[i] += learning_rate * z\n",
    "            b -= learning_rate * z * a[:, i].reshape((len(b), 1))\n",
    "            tol += np.abs(z / x[i])\n",
    "        if np.all(tol < tol_cutoff):\n",
    "            print('Break')\n",
    "            break\n",
    "    return x\n"
   ]
  },
  {
   "cell_type": "code",
   "execution_count": 13,
   "id": "aea08a8a",
   "metadata": {},
   "outputs": [],
   "source": [
    "#call the function above with learning = 0.0001\n",
    "x = gd_solve(a, b, learning_rate = 0.0001)"
   ]
  },
  {
   "cell_type": "code",
   "execution_count": 14,
   "id": "0db2f67b",
   "metadata": {},
   "outputs": [
    {
     "data": {
      "text/plain": [
       "(639, 25)"
      ]
     },
     "execution_count": 14,
     "metadata": {},
     "output_type": "execute_result"
    }
   ],
   "source": [
    "x.shape\n"
   ]
  },
  {
   "cell_type": "code",
   "execution_count": 15,
   "id": "b322a3e4",
   "metadata": {},
   "outputs": [],
   "source": [
    "yt= np.dot(x.T,A_test)"
   ]
  },
  {
   "cell_type": "code",
   "execution_count": 16,
   "id": "5eafecf5",
   "metadata": {},
   "outputs": [
    {
     "data": {
      "text/plain": [
       "(25, 1000)"
      ]
     },
     "execution_count": 16,
     "metadata": {},
     "output_type": "execute_result"
    }
   ],
   "source": [
    "yt.shape"
   ]
  },
  {
   "cell_type": "code",
   "execution_count": 17,
   "id": "e16bd3ad",
   "metadata": {},
   "outputs": [],
   "source": [
    "# save the array to a CSV file\n",
    "np.savetxt('test18000.csv', yt, delimiter=',')"
   ]
  },
  {
   "cell_type": "markdown",
   "id": "aaaf0dcf",
   "metadata": {},
   "source": [
    "# NMF"
   ]
  },
  {
   "cell_type": "code",
   "execution_count": 18,
   "id": "ef182b07",
   "metadata": {},
   "outputs": [],
   "source": [
    "import numpy as np\n",
    "\n",
    "def gd_solve(a, b, max_iter=100, tol_cutoff=1e-8):\n",
    "    x = np.zeros(len(b))\n",
    "    for iter in range(1, max_iter+1):\n",
    "        tol = 0\n",
    "        for i in range(len(b)):\n",
    "            if a[i, i] == 0:\n",
    "                z = 0\n",
    "            else:\n",
    "                z = b[i] / a[i, i]\n",
    "            \n",
    "            if x[i] + z < 0:\n",
    "                z = -x[i]\n",
    "                x[i]=0\n",
    "            else:    \n",
    "                x[i] = x[i] + z\n",
    "            \n",
    "            b = b - z * a[:, i]\n",
    "            tol = tol + abs(z / (x[i] + 1e-15))\n",
    "        if tol < tol_cutoff:\n",
    "            break\n",
    "    return x\n",
    "\n"
   ]
  },
  {
   "cell_type": "code",
   "execution_count": 21,
   "id": "82446942",
   "metadata": {},
   "outputs": [],
   "source": [
    "import numpy as np\n",
    "\n",
    "def nmf(A, k, max_iter=10):\n",
    "    # Initialize W and H\n",
    "    m, n = A.shape\n",
    "    W = abs(np.random.rand(m, k))\n",
    "    H = np.zeros((k, n))\n",
    "    at = A.T\n",
    "\n",
    "    \n",
    "    # Iteratively update W and H\n",
    "    for i in range(max_iter):\n",
    "        # Update H\n",
    "        a = np.dot(W.T, W)\n",
    "        #print('a',a.shape)\n",
    "        for j in range(n):\n",
    "            \n",
    "            b = np.dot(W.T, A[:, j])\n",
    "            #print('A[:, j]=',A[:, j].shape)\n",
    "            #print('b=',b.shape)\n",
    "\n",
    "            x= gd_solve(a,b)\n",
    "            #print('x=',x.shape)\n",
    "            \n",
    "            #deno = np.sum(x)\n",
    "            #print('deno=',deno)\n",
    "            #y = x/deno\n",
    "            #print('sum = ',np.sum(y))\n",
    "            H[:,j] = x\n",
    "            #print('x=',x)\n",
    "            #print('deno=',deno)\n",
    "        #print('H',np.sum(H, axis=1))\n",
    "            #H = H / np.sum(H, axis=1)\n",
    "        \n",
    "        # Normalize H\n",
    "        \n",
    "        #print(np.sum(H, axis=0))\n",
    "        #print('H',H.shape)\n",
    "        \n",
    "        #print('a',a.shape)\n",
    "        \n",
    "        # Update W\n",
    "        aw = np.dot(H,H.T)\n",
    "        #print('aw',aw.shape)\n",
    "        for i in range(0,m):\n",
    "            #print('i',i)\n",
    "            bw = np.dot(H, at[:,i])\n",
    "            #print('bw',bw.shape)\n",
    "            x1= gd_solve(aw,bw)\n",
    "            #print('x1',x1.shape)\n",
    "            \n",
    "            #deno1 = np.sum(x1)\n",
    "            #print(\"W.T[:, i]=\",W.T[:, i].shape)\n",
    "            W.T[:, i] = x1\n",
    "        #print('w',W)\n",
    "        #print('w',np.sum(W, axis=1))\n",
    " \n",
    "    return W, H\n",
    "\n"
   ]
  },
  {
   "cell_type": "code",
   "execution_count": 34,
   "id": "ace3e792",
   "metadata": {},
   "outputs": [],
   "source": [
    "k = 15\n",
    "w1,h1 = nmf(A, k)"
   ]
  },
  {
   "cell_type": "code",
   "execution_count": 35,
   "id": "4f4460ea",
   "metadata": {},
   "outputs": [
    {
     "data": {
      "text/plain": [
       "(639, 15)"
      ]
     },
     "execution_count": 35,
     "metadata": {},
     "output_type": "execute_result"
    }
   ],
   "source": [
    "w1.shape"
   ]
  },
  {
   "cell_type": "code",
   "execution_count": 36,
   "id": "ef0423a2",
   "metadata": {},
   "outputs": [
    {
     "data": {
      "text/plain": [
       "(15, 4000)"
      ]
     },
     "execution_count": 36,
     "metadata": {},
     "output_type": "execute_result"
    }
   ],
   "source": [
    "h1.shape"
   ]
  },
  {
   "cell_type": "code",
   "execution_count": 37,
   "id": "4c50471e",
   "metadata": {},
   "outputs": [],
   "source": [
    "#calculating A1 which is predicted with NMF\n",
    "A1=np.dot(w1,h1)"
   ]
  },
  {
   "cell_type": "code",
   "execution_count": 38,
   "id": "e50e56aa",
   "metadata": {},
   "outputs": [
    {
     "data": {
      "image/png": "[encoded data removed]",
      "text/plain": [
       "<Figure size 640x480 with 1 Axes>"
      ]
     },
     "metadata": {},
     "output_type": "display_data"
    }
   ],
   "source": [
    "import matplotlib.pyplot as plt\n",
    "\n",
    "\n",
    "plt.scatter(A, A1,s=3)\n",
    "plt.show()"
   ]
  },
  {
   "cell_type": "code",
   "execution_count": 28,
   "id": "22f3b447",
   "metadata": {},
   "outputs": [
    {
     "data": {
      "text/plain": [
       "0.691704369756938"
      ]
     },
     "execution_count": 28,
     "metadata": {},
     "output_type": "execute_result"
    }
   ],
   "source": [
    "from sklearn.metrics import mean_squared_error\n",
    "mean_squared_error(A,A1)"
   ]
  },
  {
   "cell_type": "code",
   "execution_count": 29,
   "id": "e4250fdf",
   "metadata": {},
   "outputs": [],
   "source": [
    "import numpy as np\n",
    "\n",
    "def gd_solve_momentum(a, b, learning_rate=0.0001, max_iter=18000, tol_cutoff=1e-15, momentum=0.9):\n",
    "    x = np.zeros_like(b)\n",
    "    v = np.zeros_like(b)\n",
    "    for iter in range(1, max_iter+1):\n",
    "        tol = np.zeros_like(b)\n",
    "        for i in range(len(b)):\n",
    "            z = b[i] / a[i, i]\n",
    "            v[i] = momentum * v[i] + (1 - momentum) * z\n",
    "            x[i] += learning_rate * v[i]\n",
    "            b -= learning_rate * z * a[:, i].reshape((len(b), 1))\n",
    "            tol += np.abs(z / x[i])\n",
    "        if np.all(tol < tol_cutoff):\n",
    "            break\n",
    "    return x\n"
   ]
  },
  {
   "cell_type": "code",
   "execution_count": 32,
   "id": "d9feb1d5",
   "metadata": {},
   "outputs": [],
   "source": [
    "import numpy as np\n",
    "\n",
    "def gd_solve_reg(a, b, learning_rate=0.01, max_iter=18000, tol_cutoff=1e-15, alpha=0):\n",
    "    x = np.zeros_like(b)\n",
    "    for iter in range(1, max_iter+1):\n",
    "        tol = np.zeros_like(b)\n",
    "        for i in range(len(b)):\n",
    "            z = b[i] / a[i, i]\n",
    "            if alpha != 0:\n",
    "                x[i] *= (1 - learning_rate * alpha)\n",
    "            x[i] += learning_rate * z\n",
    "            b -= learning_rate * z * a[:, i].reshape((len(b), 1))\n",
    "            tol += np.abs(z / x[i])\n",
    "        if np.all(tol < tol_cutoff):\n",
    "            break\n",
    "    return x\n",
    "x =gd_solve_reg(a,b,alpha=0.01)"
   ]
  },
  {
   "cell_type": "code",
   "execution_count": 39,
   "id": "42ed4aa4",
   "metadata": {},
   "outputs": [],
   "source": []
  },
  {
   "cell_type": "code",
   "execution_count": 40,
   "id": "8a5e7767",
   "metadata": {},
   "outputs": [
    {
     "data": {
      "text/plain": [
       "(639, 25)"
      ]
     },
     "execution_count": 40,
     "metadata": {},
     "output_type": "execute_result"
    }
   ],
   "source": [
    "x.shape"
   ]
  },
  {
   "cell_type": "code",
   "execution_count": 41,
   "id": "a1afe226",
   "metadata": {},
   "outputs": [],
   "source": [
    "yt= np.dot(x.T,A_test)"
   ]
  },
  {
   "cell_type": "code",
   "execution_count": 42,
   "id": "3047a46f",
   "metadata": {},
   "outputs": [
    {
     "data": {
      "text/plain": [
       "(25, 1000)"
      ]
     },
     "execution_count": 42,
     "metadata": {},
     "output_type": "execute_result"
    }
   ],
   "source": [
    "yt.shape"
   ]
  },
  {
   "cell_type": "code",
   "execution_count": 43,
   "id": "edf339af",
   "metadata": {},
   "outputs": [],
   "source": [
    "# save the array to a CSV file\n",
    "np.savetxt('reg18000.csv', yt, delimiter=',')"
   ]
  },
  {
   "cell_type": "code",
   "execution_count": null,
   "id": "c16bd67d",
   "metadata": {},
   "outputs": [],
   "source": []
  },
  {
   "cell_type": "code",
   "execution_count": 1,
   "id": "4d49eba2",
   "metadata": {},
   "outputs": [],
   "source": []
  },
  {
   "cell_type": "code",
   "execution_count": null,
   "id": "467204e5",
   "metadata": {},
   "outputs": [],
   "source": []
  }
 ],
 "metadata": {
  "kernelspec": {
   "display_name": "Python 3 (ipykernel)",
   "language": "python",
   "name": "python3"
  },
  "language_info": {
   "codemirror_mode": {
    "name": "ipython",
    "version": 3
   },
   "file_extension": ".py",
   "mimetype": "text/x-python",
   "name": "python",
   "nbconvert_exporter": "python",
   "pygments_lexer": "ipython3",
   "version": "3.8.13"
  }
 },
 "nbformat": 4,
 "nbformat_minor": 5
}
